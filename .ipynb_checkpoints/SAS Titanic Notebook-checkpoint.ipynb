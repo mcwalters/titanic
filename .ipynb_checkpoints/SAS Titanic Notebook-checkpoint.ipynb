{
 "cells": [
  {
   "cell_type": "markdown",
   "metadata": {},
   "source": [
    "#Short intro to SAS \n",
    "by way of http://statskom.com/kaggle/"
   ]
  },
  {
   "cell_type": "markdown",
   "metadata": {},
   "source": [
    "## How to get SAS\n",
    "Before we get started we will need access to the SAS university edition. \n",
    "If you haven’t done this yet that you can follow the tutorial here: http://www.sas.com/en_us/software/university-edition/download-software.html"
   ]
  },
  {
   "cell_type": "markdown",
   "metadata": {},
   "source": [
    "## SAS Structure\n",
    "\n",
    "- Data Steps are rules for data transformation and cleaning.\n",
    "- Proc Steps are built in functions to SAS which efficiently perform some process.\n",
    "  - `Means`, etc \n",
    "- Global Statements\n",
    "  - **Libaries** are folders set up with `libname mydata '/folders/myfolders/mydata/';` \n",
    "    - `WORK` library is temporary swap space created by SAS for the purposes of a given session.\n",
    "\n",
    "SAS is a bit of a historical artifact."
   ]
  },
  {
   "cell_type": "markdown",
   "metadata": {},
   "source": [
    "## Getting Started\n",
    "SAS is a powerful tool for data analysis, but you first have to get the data into the SAS framework to do anything with it and here's our first PROC step.\n",
    "\n",
    "DBMS: Database Management System, most commonly CSV, but could be all kinds of otherthings, oracle, IBM, etc.\n"
   ]
  },
  {
   "cell_type": "raw",
   "metadata": {},
   "source": [
    "* How to get CSV files into SAS;\n",
    "PROC IMPORT DBMS=csv OUT=train  replace  \n",
    "  DATAFILE=\"/folders/myfolders/train.csv\";\n",
    "  GETNAMES=YES;\n",
    "RUN;"
   ]
  },
  {
   "cell_type": "markdown",
   "metadata": {},
   "source": [
    "New Stuff\n"
   ]
  },
  {
   "cell_type": "raw",
   "metadata": {},
   "source": [
    "PROC FREQ DATA =train ;\n",
    "  TABLES survived*sex / NOROW NOPERCENT;\n",
    "RUN;\n",
    "\n",
    "PROC IMPORT DBMS=csv OUT=test replace\n",
    "  DATAFILE=\"/folders/myfolders/test.csv\";\n",
    "  GETNAMES=YES;\n",
    "RUN;\n",
    "\n",
    "DATA gender_submit(KEEP=survived passengerid );\n",
    "  SET test;\n",
    "  IF sex = \"female\" THEN survived = 1;\n",
    "  ELSE survived = 0;\n",
    " RUN;\n",
    " \n",
    " \n",
    " PROC EXPORT DATA=gender_sub DBMS=csv\n",
    "  OUTFILE= \"/folders/myfolders/gender_sub.csv\" REPLACE;\n",
    "RUN;\n",
    "\n",
    "\n",
    "PROC FREQ DATA = train;\n",
    "  TABLES survived;\n",
    "RUN;\n",
    "\n",
    "PROC FREQ DATA = train;\n",
    "  TABLES sex*survived;\n",
    "RUN;\n",
    "\n",
    "PROC FREQ DATA = train;\n",
    "  TABLES pclass*sex*survived /NOCOL NOPERCENT ;\n",
    "RUN;\n",
    "\n",
    "PROC FREQ DATA = train;\n",
    "  TABLES pclass*sex*survived /out = train_freq ;\n",
    "RUN;\n",
    "\n",
    "PROC FREQ DATA = train_bin;\n",
    "  TABLES age *survived   ;\n",
    "RUN;\n",
    "\n",
    "DATA train_bin;\n",
    "  LENGTH age_grp $20;\n",
    "  SET train;\n",
    "  IF .< age <= 10    THEN age_grp = \"0-le10\";\n",
    "  ELSE IF 10<age<=20 THEN age_grp = \"gt10-le20\";\n",
    "  ELSE IF 20<age<=30 THEN age_grp = \"gt20-le30\";\n",
    "  ELSE IF 30<age<=40 THEN age_grp = \"gt30-le40\";\n",
    "  ELSE IF 40<age<=50 THEN age_grp = \"gt40-le50\";\n",
    "  ELSE IF 50<age     THEN age_grp = \"gt50-le20\";\n",
    "RUN;\n",
    "\n",
    "PROC FREQ DATA = train_bin;\n",
    "  TABLES age_grp *survived /nocol nopercent ;\n",
    "RUN;\n",
    "\n",
    "PROC FREQ DATA = train;\n",
    "  TABLES embarked*survived /NOCOL NOPERCENT PLOTS = FREQPLOT  ;\n",
    "RUN;"
   ]
  },
  {
   "cell_type": "code",
   "execution_count": null,
   "metadata": {
    "collapsed": true
   },
   "outputs": [],
   "source": []
  }
 ],
 "metadata": {
  "kernelspec": {
   "display_name": "Bash",
   "language": "bash",
   "name": "bash"
  },
  "language_info": {
   "codemirror_mode": "shell",
   "file_extension": ".sh",
   "mimetype": "text/x-sh",
   "name": "bash"
  }
 },
 "nbformat": 4,
 "nbformat_minor": 0
}
