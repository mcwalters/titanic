{
 "metadata": {
  "name": ""
 },
 "nbformat": 3,
 "nbformat_minor": 0,
 "worksheets": [
  {
   "cells": [
    {
     "cell_type": "code",
     "collapsed": false,
     "input": [
      "import csv\n",
      "import matplotlib\n",
      "import matplotlib.pyplot as plt\n",
      "import pandas as pd\n",
      "import numpy as np\n",
      "import pylab as pl\n",
      "from patsy import dmatrices\n",
      "from sklearn.linear_model import LogisticRegression\n",
      "from sklearn.cross_validation import train_test_split\n",
      "from sklearn import metrics\n",
      "from sklearn.cross_validation import cross_val_score\n",
      "\n",
      "%matplotlib inline                                  \n"
     ],
     "language": "python",
     "metadata": {},
     "outputs": [],
     "prompt_number": 62
    },
    {
     "cell_type": "code",
     "collapsed": false,
     "input": [
      "data = pd.read_csv('train.csv') # read in data"
     ],
     "language": "python",
     "metadata": {},
     "outputs": [],
     "prompt_number": 63
    },
    {
     "cell_type": "code",
     "collapsed": false,
     "input": [
      "[d for d in data.Embarked.unique() ]  #just experimenting with unique()\n",
      "[d for d in data.Sex.unique() ]       # these function calls change nothing"
     ],
     "language": "python",
     "metadata": {},
     "outputs": [
      {
       "metadata": {},
       "output_type": "pyout",
       "prompt_number": 64,
       "text": [
        "['male', 'female']"
       ]
      }
     ],
     "prompt_number": 64
    },
    {
     "cell_type": "code",
     "collapsed": false,
     "input": [
      "embark_dict = {'S': 1, 'C': 2, 'Q': 3}\n",
      "sex_dict = {'male': 0, 'female': 1}\n",
      "print embark_dict"
     ],
     "language": "python",
     "metadata": {},
     "outputs": [
      {
       "output_type": "stream",
       "stream": "stdout",
       "text": [
        "{'Q': 3, 'S': 1, 'C': 2}\n"
       ]
      }
     ],
     "prompt_number": 65
    },
    {
     "cell_type": "code",
     "collapsed": false,
     "input": [
      "data['Embarked'] = data.Embarked.map(embark_dict)"
     ],
     "language": "python",
     "metadata": {},
     "outputs": [],
     "prompt_number": 66
    },
    {
     "cell_type": "code",
     "collapsed": false,
     "input": [
      "data['Sex'] = data.Sex.map(sex_dict)"
     ],
     "language": "python",
     "metadata": {},
     "outputs": [],
     "prompt_number": 67
    },
    {
     "cell_type": "code",
     "collapsed": false,
     "input": [
      "data['Name'] = data.Name.map(len)  # replace the name string with the length of the name"
     ],
     "language": "python",
     "metadata": {},
     "outputs": [],
     "prompt_number": 68
    },
    {
     "cell_type": "code",
     "collapsed": false,
     "input": [
      "nvs = pd.crosstab(data['Name'],data['Survived'])"
     ],
     "language": "python",
     "metadata": {},
     "outputs": [],
     "prompt_number": 69
    },
    {
     "cell_type": "code",
     "collapsed": false,
     "input": [
      "nvs.hist()\n",
      "pl.show()"
     ],
     "language": "python",
     "metadata": {},
     "outputs": [
      {
       "metadata": {},
       "output_type": "display_data",
       "png": "[encoded data removed]",
       "text": [
        "<matplotlib.figure.Figure at 0x7f12b39b9ad0>"
       ]
      }
     ],
     "prompt_number": 70
    },
    {
     "cell_type": "code",
     "collapsed": false,
     "input": [
      "data['Pclass'].hist(bins=3)\n",
      "\n"
     ],
     "language": "python",
     "metadata": {},
     "outputs": [
      {
       "metadata": {},
       "output_type": "pyout",
       "prompt_number": 71,
       "text": [
        "<matplotlib.axes.AxesSubplot at 0x7f12b376f5d0>"
       ]
      },
      {
       "metadata": {},
       "output_type": "display_data",
       "png": "[encoded data removed]",
       "text": [
        "<matplotlib.figure.Figure at 0x7f12b376f1d0>"
       ]
      }
     ],
     "prompt_number": 71
    },
    {
     "cell_type": "code",
     "collapsed": false,
     "input": [
      "\n",
      "data[data['Survived'] != 1]['Pclass'].hist(bins=3)\n",
      "data[data['Survived'] == 1]['Pclass'].hist(bins=3)\n"
     ],
     "language": "python",
     "metadata": {},
     "outputs": [
      {
       "metadata": {},
       "output_type": "pyout",
       "prompt_number": 72,
       "text": [
        "<matplotlib.axes.AxesSubplot at 0x7f12b36f2e50>"
       ]
      },
      {
       "metadata": {},
       "output_type": "display_data",
       "png": "[encoded data removed]",
       "text": [
        "<matplotlib.figure.Figure at 0x7f12b3a3dfd0>"
       ]
      }
     ],
     "prompt_number": 72
    },
    {
     "cell_type": "code",
     "collapsed": false,
     "input": [
      "\n",
      "data = data.drop('Ticket',1)\n",
      "data = data.drop('Cabin',1)\n",
      "data = data.drop('Age',1)\n",
      "data = data.drop('Embarked',1)"
     ],
     "language": "python",
     "metadata": {},
     "outputs": [],
     "prompt_number": 73
    },
    {
     "cell_type": "heading",
     "level": 2,
     "metadata": {},
     "source": [
      "Logistic Regression !!\n"
     ]
    },
    {
     "cell_type": "code",
     "collapsed": false,
     "input": [
      "import statsmodels.api as sm\n"
     ],
     "language": "python",
     "metadata": {},
     "outputs": [],
     "prompt_number": 74
    },
    {
     "cell_type": "code",
     "collapsed": false,
     "input": [
      "data['intercept'] = 1.0\n",
      "\n",
      "train_cols = data.columns[2:]\n",
      " \n",
      "logit = sm.Logit(data['Survived'], data[train_cols])\n",
      " \n",
      "# fit the model\n",
      "result = logit.fit()"
     ],
     "language": "python",
     "metadata": {},
     "outputs": [
      {
       "output_type": "stream",
       "stream": "stdout",
       "text": [
        "Optimization terminated successfully.\n",
        "         Current function value: 0.454649\n",
        "         Iterations 6\n"
       ]
      }
     ],
     "prompt_number": 75
    },
    {
     "cell_type": "code",
     "collapsed": false,
     "input": [
      "print result.summary()"
     ],
     "language": "python",
     "metadata": {},
     "outputs": [
      {
       "output_type": "stream",
       "stream": "stdout",
       "text": [
        "                           Logit Regression Results                           \n",
        "==============================================================================\n",
        "Dep. Variable:               Survived   No. Observations:                  891\n",
        "Model:                          Logit   Df Residuals:                      884\n",
        "Method:                           MLE   Df Model:                            6\n",
        "Date:                Fri, 27 Mar 2015   Pseudo R-squ.:                  0.3173\n",
        "Time:                        19:59:02   Log-Likelihood:                -405.09\n",
        "converged:                       True   LL-Null:                       -593.33\n",
        "                                        LLR p-value:                 3.188e-78\n",
        "==============================================================================\n",
        "                 coef    std err          z      P>|z|      [95.0% Conf. Int.]\n",
        "------------------------------------------------------------------------------\n",
        "Pclass        -0.7766      0.130     -5.984      0.000        -1.031    -0.522\n",
        "Name           0.0287      0.011      2.523      0.012         0.006     0.051\n",
        "Sex            2.5758      0.206     12.515      0.000         2.172     2.979\n",
        "SibSp         -0.2803      0.105     -2.681      0.007        -0.485    -0.075\n",
        "Parch         -0.1458      0.117     -1.245      0.213        -0.375     0.084\n",
        "Fare           0.0039      0.002      1.596      0.110        -0.001     0.009\n",
        "intercept     -0.4348      0.458     -0.950      0.342        -1.332     0.462\n",
        "==============================================================================\n"
       ]
      }
     ],
     "prompt_number": 76
    },
    {
     "cell_type": "code",
     "collapsed": false,
     "input": [
      "print result.conf_int()\n"
     ],
     "language": "python",
     "metadata": {},
     "outputs": [
      {
       "output_type": "stream",
       "stream": "stdout",
       "text": [
        "                  0         1\n",
        "Pclass    -1.031016 -0.522239\n",
        "Name       0.006414  0.051081\n",
        "Sex        2.172368  2.979137\n",
        "SibSp     -0.485125 -0.075390\n",
        "Parch     -0.375247  0.083677\n",
        "Fare      -0.000882  0.008622\n",
        "intercept -1.331568  0.461984\n",
        "\n",
        "[7 rows x 2 columns]\n"
       ]
      }
     ],
     "prompt_number": 77
    },
    {
     "cell_type": "code",
     "collapsed": false,
     "input": [
      "print np.exp(result.params)  # odds ratios only"
     ],
     "language": "python",
     "metadata": {},
     "outputs": [
      {
       "output_type": "stream",
       "stream": "stdout",
       "text": [
        "Pclass        0.459955\n",
        "Name          1.029165\n",
        "Sex          13.141200\n",
        "SibSp         0.755589\n",
        "Parch         0.864343\n",
        "Fare          1.003877\n",
        "intercept     0.647399\n",
        "dtype: float64\n"
       ]
      }
     ],
     "prompt_number": 78
    },
    {
     "cell_type": "heading",
     "level": 2,
     "metadata": {},
     "source": [
      "Predictions!!!\n"
     ]
    },
    {
     "cell_type": "code",
     "collapsed": false,
     "input": [
      "testdata = pd.read_csv('test.csv') # read in data"
     ],
     "language": "python",
     "metadata": {},
     "outputs": [],
     "prompt_number": 90
    },
    {
     "cell_type": "code",
     "collapsed": false,
     "input": [
      "testdata['Embarked'] = testdata.Embarked.map(embark_dict)\n",
      "testdata['Sex'] = testdata.Sex.map(sex_dict)\n",
      "testdata['Name'] = testdata.Name.map(len)  # replace the name string with the length of the name\n",
      "\n",
      "testdata = testdata.drop('Ticket',1)\n",
      "testdata = testdata.drop('Cabin',1)"
     ],
     "language": "python",
     "metadata": {},
     "outputs": [],
     "prompt_number": 91
    },
    {
     "cell_type": "code",
     "collapsed": false,
     "input": [
      "testdata['Age'] = testdata['Age'].fillna(method='pad')\n",
      "testdata['Fare'] = testdata['Fare'].fillna(method='pad')\n",
      "\n",
      "testdata['intercept'] = 1.0"
     ],
     "language": "python",
     "metadata": {},
     "outputs": [],
     "prompt_number": 92
    },
    {
     "cell_type": "code",
     "collapsed": false,
     "input": [
      "testdata.describe()"
     ],
     "language": "python",
     "metadata": {},
     "outputs": [
      {
       "html": [
        "<div style=\"max-height:1000px;max-width:1500px;overflow:auto;\">\n",
        "<table border=\"1\" class=\"dataframe\">\n",
        "  <thead>\n",
        "    <tr style=\"text-align: right;\">\n",
        "      <th></th>\n",
        "      <th>PassengerId</th>\n",
        "      <th>Pclass</th>\n",
        "      <th>Name</th>\n",
        "      <th>Sex</th>\n",
        "      <th>Age</th>\n",
        "      <th>SibSp</th>\n",
        "      <th>Parch</th>\n",
        "      <th>Fare</th>\n",
        "      <th>Embarked</th>\n",
        "      <th>intercept</th>\n",
        "    </tr>\n",
        "  </thead>\n",
        "  <tbody>\n",
        "    <tr>\n",
        "      <th>count</th>\n",
        "      <td>  418.000000</td>\n",
        "      <td> 418.000000</td>\n",
        "      <td> 418.000000</td>\n",
        "      <td> 418.000000</td>\n",
        "      <td> 418.000000</td>\n",
        "      <td> 418.000000</td>\n",
        "      <td> 418.000000</td>\n",
        "      <td> 418.000000</td>\n",
        "      <td> 418.000000</td>\n",
        "      <td> 418</td>\n",
        "    </tr>\n",
        "    <tr>\n",
        "      <th>mean</th>\n",
        "      <td> 1100.500000</td>\n",
        "      <td>   2.265550</td>\n",
        "      <td>  27.483254</td>\n",
        "      <td>   0.363636</td>\n",
        "      <td>  30.125000</td>\n",
        "      <td>   0.447368</td>\n",
        "      <td>   0.392344</td>\n",
        "      <td>  35.560845</td>\n",
        "      <td>   1.464115</td>\n",
        "      <td>   1</td>\n",
        "    </tr>\n",
        "    <tr>\n",
        "      <th>std</th>\n",
        "      <td>  120.810458</td>\n",
        "      <td>   0.841838</td>\n",
        "      <td>   9.971228</td>\n",
        "      <td>   0.481622</td>\n",
        "      <td>  13.905601</td>\n",
        "      <td>   0.896760</td>\n",
        "      <td>   0.981429</td>\n",
        "      <td>  55.856972</td>\n",
        "      <td>   0.685516</td>\n",
        "      <td>   0</td>\n",
        "    </tr>\n",
        "    <tr>\n",
        "      <th>min</th>\n",
        "      <td>  892.000000</td>\n",
        "      <td>   1.000000</td>\n",
        "      <td>  13.000000</td>\n",
        "      <td>   0.000000</td>\n",
        "      <td>   0.170000</td>\n",
        "      <td>   0.000000</td>\n",
        "      <td>   0.000000</td>\n",
        "      <td>   0.000000</td>\n",
        "      <td>   1.000000</td>\n",
        "      <td>   1</td>\n",
        "    </tr>\n",
        "    <tr>\n",
        "      <th>25%</th>\n",
        "      <td>  996.250000</td>\n",
        "      <td>   1.000000</td>\n",
        "      <td>  20.000000</td>\n",
        "      <td>   0.000000</td>\n",
        "      <td>  22.000000</td>\n",
        "      <td>   0.000000</td>\n",
        "      <td>   0.000000</td>\n",
        "      <td>   7.895800</td>\n",
        "      <td>   1.000000</td>\n",
        "      <td>   1</td>\n",
        "    </tr>\n",
        "    <tr>\n",
        "      <th>50%</th>\n",
        "      <td> 1100.500000</td>\n",
        "      <td>   3.000000</td>\n",
        "      <td>  25.000000</td>\n",
        "      <td>   0.000000</td>\n",
        "      <td>  27.000000</td>\n",
        "      <td>   0.000000</td>\n",
        "      <td>   0.000000</td>\n",
        "      <td>  14.454200</td>\n",
        "      <td>   1.000000</td>\n",
        "      <td>   1</td>\n",
        "    </tr>\n",
        "    <tr>\n",
        "      <th>75%</th>\n",
        "      <td> 1204.750000</td>\n",
        "      <td>   3.000000</td>\n",
        "      <td>  30.750000</td>\n",
        "      <td>   1.000000</td>\n",
        "      <td>  39.000000</td>\n",
        "      <td>   1.000000</td>\n",
        "      <td>   0.000000</td>\n",
        "      <td>  31.471875</td>\n",
        "      <td>   2.000000</td>\n",
        "      <td>   1</td>\n",
        "    </tr>\n",
        "    <tr>\n",
        "      <th>max</th>\n",
        "      <td> 1309.000000</td>\n",
        "      <td>   3.000000</td>\n",
        "      <td>  63.000000</td>\n",
        "      <td>   1.000000</td>\n",
        "      <td>  76.000000</td>\n",
        "      <td>   8.000000</td>\n",
        "      <td>   9.000000</td>\n",
        "      <td> 512.329200</td>\n",
        "      <td>   3.000000</td>\n",
        "      <td>   1</td>\n",
        "    </tr>\n",
        "  </tbody>\n",
        "</table>\n",
        "<p>8 rows \u00d7 10 columns</p>\n",
        "</div>"
       ],
       "metadata": {},
       "output_type": "pyout",
       "prompt_number": 93,
       "text": [
        "       PassengerId      Pclass        Name         Sex         Age  \\\n",
        "count   418.000000  418.000000  418.000000  418.000000  418.000000   \n",
        "mean   1100.500000    2.265550   27.483254    0.363636   30.125000   \n",
        "std     120.810458    0.841838    9.971228    0.481622   13.905601   \n",
        "min     892.000000    1.000000   13.000000    0.000000    0.170000   \n",
        "25%     996.250000    1.000000   20.000000    0.000000   22.000000   \n",
        "50%    1100.500000    3.000000   25.000000    0.000000   27.000000   \n",
        "75%    1204.750000    3.000000   30.750000    1.000000   39.000000   \n",
        "max    1309.000000    3.000000   63.000000    1.000000   76.000000   \n",
        "\n",
        "            SibSp       Parch        Fare    Embarked  intercept  \n",
        "count  418.000000  418.000000  418.000000  418.000000        418  \n",
        "mean     0.447368    0.392344   35.560845    1.464115          1  \n",
        "std      0.896760    0.981429   55.856972    0.685516          0  \n",
        "min      0.000000    0.000000    0.000000    1.000000          1  \n",
        "25%      0.000000    0.000000    7.895800    1.000000          1  \n",
        "50%      0.000000    0.000000   14.454200    1.000000          1  \n",
        "75%      1.000000    0.000000   31.471875    2.000000          1  \n",
        "max      8.000000    9.000000  512.329200    3.000000          1  \n",
        "\n",
        "[8 rows x 10 columns]"
       ]
      }
     ],
     "prompt_number": 93
    },
    {
     "cell_type": "code",
     "collapsed": false,
     "input": [
      "testdata['Survived'] = result.predict(testdata[train_cols])"
     ],
     "language": "python",
     "metadata": {},
     "outputs": [],
     "prompt_number": 94
    },
    {
     "cell_type": "code",
     "collapsed": false,
     "input": [
      "train_cols"
     ],
     "language": "python",
     "metadata": {},
     "outputs": [
      {
       "metadata": {},
       "output_type": "pyout",
       "prompt_number": 95,
       "text": [
        "Index([u'Pclass', u'Name', u'Sex', u'SibSp', u'Parch', u'Fare', u'intercept'], dtype='object')"
       ]
      }
     ],
     "prompt_number": 95
    },
    {
     "cell_type": "code",
     "collapsed": false,
     "input": [
      "testdata['Survived'] = [d for d in testdata.Survived < 0.5 ]  #just experimenting with unique()\n",
      "bool_map = {True: 1, False: 0}\n",
      "testdata['Survived'] = testdata.Survived.map(bool_map)\n"
     ],
     "language": "python",
     "metadata": {},
     "outputs": [],
     "prompt_number": 96
    },
    {
     "cell_type": "code",
     "collapsed": false,
     "input": [
      "testdata = testdata.drop('Name',1)\n",
      "testdata = testdata.drop('SibSp',1)\n",
      "testdata = testdata.drop('Parch',1)\n",
      "testdata = testdata.drop('Sex',1)\n",
      "testdata = testdata.drop('Fare',1)\n",
      "testdata = testdata.drop('intercept',1)\n",
      "testdata = testdata.drop('Pclass',1)\n",
      "testdata = testdata.drop('Age',1)\n",
      "testdata = testdata.drop('Embarked',1)\n"
     ],
     "language": "python",
     "metadata": {},
     "outputs": [],
     "prompt_number": 97
    },
    {
     "cell_type": "code",
     "collapsed": false,
     "input": [
      "testdata.to_csv(\"linearmodel.csv\", cols=['PassengerId', 'Survived'], index=False)"
     ],
     "language": "python",
     "metadata": {},
     "outputs": [],
     "prompt_number": 98
    },
    {
     "cell_type": "code",
     "collapsed": false,
     "input": [],
     "language": "python",
     "metadata": {},
     "outputs": []
    }
   ],
   "metadata": {}
  }
 ]
}